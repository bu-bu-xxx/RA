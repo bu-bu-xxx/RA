{
 "cells": [
  {
   "cell_type": "code",
   "execution_count": 1,
   "id": "ba924c6f",
   "metadata": {},
   "outputs": [],
   "source": [
    "import numpy as np\n",
    "\n",
    "B = np.array(2, dtype=np.float32)"
   ]
  },
  {
   "cell_type": "code",
   "execution_count": 3,
   "id": "5ca91244",
   "metadata": {},
   "outputs": [
    {
     "data": {
      "text/plain": [
       "array(2., dtype=float32)"
      ]
     },
     "execution_count": 3,
     "metadata": {},
     "output_type": "execute_result"
    }
   ],
   "source": [
    "B"
   ]
  },
  {
   "cell_type": "code",
   "execution_count": 6,
   "id": "de888432",
   "metadata": {},
   "outputs": [
    {
     "data": {
      "text/plain": [
       "[array(2., dtype=float32),\n",
       " array(2., dtype=float32),\n",
       " array(2., dtype=float32),\n",
       " array(2., dtype=float32),\n",
       " array(2., dtype=float32),\n",
       " array(2., dtype=float32),\n",
       " array(2., dtype=float32),\n",
       " array(2., dtype=float32),\n",
       " array(2., dtype=float32),\n",
       " array(2., dtype=float32)]"
      ]
     },
     "execution_count": 6,
     "metadata": {},
     "output_type": "execute_result"
    }
   ],
   "source": [
    "B_list = [B.copy() for _ in range(10)]\n",
    "B_list"
   ]
  },
  {
   "cell_type": "code",
   "execution_count": 10,
   "id": "b3b22dbc",
   "metadata": {},
   "outputs": [
    {
     "name": "stdout",
     "output_type": "stream",
     "text": [
      "Cumulative sum of probabilities: [0.25 0.5  0.75 1.  ]\n",
      "Random value: 0.9689434508756708, Index in cumulative sum: 3\n"
     ]
    }
   ],
   "source": [
    "import bisect\n",
    "import numpy as np\n",
    "\n",
    "\n",
    "p = np.array([0.1, 0.1, 0.1, 0.1], dtype=np.float32)\n",
    "p_cumsum = np.cumsum(p) / np.sum(p)\n",
    "print(\"Cumulative sum of probabilities:\", p_cumsum)\n",
    "\n",
    "\n",
    "xi = np.random.uniform(0, 1)\n",
    "idx = bisect.bisect_left(p_cumsum, xi)\n",
    "print(f\"Random value: {xi}, Index in cumulative sum: {idx}\")"
   ]
  },
  {
   "cell_type": "code",
   "execution_count": 3,
   "id": "859d6270",
   "metadata": {},
   "outputs": [],
   "source": [
    "import itertools\n",
    "import numpy as np\n",
    "\n",
    "def generate_price_combinations(self, f_split):\n",
    "    combos = list(itertools.product(*f_split))\n",
    "    return np.array(combos, dtype=float)"
   ]
  },
  {
   "cell_type": "code",
   "execution_count": 4,
   "id": "3459e565",
   "metadata": {},
   "outputs": [
    {
     "name": "stdout",
     "output_type": "stream",
     "text": [
      "Generated price combinations:\n",
      "[[1. 3. 5.]\n",
      " [1. 3. 6.]\n",
      " [1. 4. 5.]\n",
      " [1. 4. 6.]\n",
      " [1. 5. 5.]\n",
      " [1. 5. 6.]\n",
      " [2. 3. 5.]\n",
      " [2. 3. 6.]\n",
      " [2. 4. 5.]\n",
      " [2. 4. 6.]\n",
      " [2. 5. 5.]\n",
      " [2. 5. 6.]]\n"
     ]
    }
   ],
   "source": [
    "f_split = [\n",
    "    [1.0, 2.0],\n",
    "    [3.0, 4.0, 5.0],\n",
    "    [5.0, 6.0]\n",
    "]\n",
    "price_combinations = generate_price_combinations(None, f_split)\n",
    "print(\"Generated price combinations:\")\n",
    "print(price_combinations)"
   ]
  },
  {
   "cell_type": "code",
   "execution_count": 1,
   "id": "90ea0b72",
   "metadata": {},
   "outputs": [
    {
     "data": {
      "text/plain": [
       "array([-9.0, -12.0], dtype=object)"
      ]
     },
     "execution_count": 1,
     "metadata": {},
     "output_type": "execute_result"
    }
   ],
   "source": [
    "import numpy as np\n",
    "\n",
    "f = np.array([[1.0, 2.0], [3.0, 4.0], [5.0, 6.0]], dtype=object)\n",
    "p = np.array([[1, 1], [1, 1], [1, 1]], dtype=object)\n",
    "c = -np.sum(f * p, axis=0)\n",
    "c"
   ]
  },
  {
   "cell_type": "code",
   "execution_count": 2,
   "id": "214ba581",
   "metadata": {},
   "outputs": [
    {
     "data": {
      "text/plain": [
       "3"
      ]
     },
     "execution_count": 2,
     "metadata": {},
     "output_type": "execute_result"
    }
   ],
   "source": [
    "import bisect\n",
    "\n",
    "a = [0, 1, 2]\n",
    "bisect.bisect_left(a, 20)"
   ]
  },
  {
   "cell_type": "code",
   "execution_count": 3,
   "id": "5a67ebf9",
   "metadata": {},
   "outputs": [
    {
     "name": "stdout",
     "output_type": "stream",
     "text": [
      "[9, 7, 8, 7, 11, 8, 7, 6, 7, 7, 5, 12, 8, 11, 8, 12, 9, 8, 10, 4, 12, 6, 9, 3, 12]\n"
     ]
    }
   ],
   "source": [
    "# generate a list of 25 random int numbers from 3 to 13\n",
    "import random\n",
    "random_list = [random.randint(3, 13) for _ in range(25)]\n",
    "print(random_list)"
   ]
  },
  {
   "cell_type": "code",
   "execution_count": null,
   "id": "062917a0",
   "metadata": {},
   "outputs": [],
   "source": []
  }
 ],
 "metadata": {
  "kernelspec": {
   "display_name": "Python 3.10 venv(global)",
   "language": "python",
   "name": "py310env"
  },
  "language_info": {
   "codemirror_mode": {
    "name": "ipython",
    "version": 3
   },
   "file_extension": ".py",
   "mimetype": "text/x-python",
   "name": "python",
   "nbconvert_exporter": "python",
   "pygments_lexer": "ipython3",
   "version": "3.10.10"
  }
 },
 "nbformat": 4,
 "nbformat_minor": 5
}
