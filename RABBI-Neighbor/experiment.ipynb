{
 "cells": [
  {
   "cell_type": "markdown",
   "id": "e6bfb918",
   "metadata": {},
   "source": [
    "## demand function\n",
    "\n",
    "1. MNL与线性需求函数公式及输入输出\n",
    "(1) MNL需求模型 (Multinomial Logit)\n",
    "\n",
    "公式（论文公式(8)-(9)）：\n",
    "\n",
    "产品 $n$ 的需求率：\n",
    "$$\\lambda_n(\\mathbf{p}) = \\frac{\\exp((d_n - p_n)/\\mu)}{\\sum_{i=1}^N \\exp((d_i - p_i)/\\mu) + \\exp(u_0/\\mu)}$$\n",
    "\n",
    "零购买率（不购买任何产品）：\n",
    "$$\\lambda_0(\\mathbf{p}) = \\frac{\\exp(u_0/\\mu)}{\\sum_{i=1}^N \\exp((d_i - p_i)/\\mu) + \\exp(u_0/\\mu)}$$\n",
    "\n",
    "\n",
    "\n",
    "输入：价格向量 $\\mathbf{p} = [p_1, p_2, \\dots, p_N]$\n",
    "输出：需求向量 $\\boldsymbol{\\lambda} = [\\lambda_1, \\lambda_2, \\dots, \\lambda_N]$\n",
    "\n",
    "(2) 线性需求模型 (Linear Demand)\n",
    "\n",
    "公式（论文公式(21)）：\n",
    "$$\\lambda_n(\\mathbf{p}) = \\psi_n + \\theta_{nn} p_n + \\sum_{m \\neq n} \\theta_{nm} p_m$$\n",
    "\n",
    "输入：价格向量 $\\mathbf{p} = [p_1, p_2, \\dots, p_N]$\n",
    "输出：需求向量 $\\boldsymbol{\\lambda} = [\\lambda_1, \\lambda_2, \\dots, \\lambda_N]$\n",
    "\n",
    "\n",
    "2. 需求函数凹性 (Concavity) 的条件\n",
    "需求函数的凹性取决于收益函数 $g(\\boldsymbol{\\lambda}) = \\sum_{n=1}^N p_n \\lambda_n$ 的联合凹性（论文Proposition 3）：\n",
    "\n",
    "\n",
    "线性需求：\n",
    "\n",
    "需满足 对角占优条件：\n",
    "$$\\theta_{nn} < 0 \\quad \\text{且} \\quad |\\theta_{nn}| > \\sum_{m \\neq n} |\\theta_{nm}| \\quad (\\forall n)$$\n",
    "\n",
    "此时 $g(\\boldsymbol{\\lambda})$ 是联合凹函数（见Maglaras & Meissner, 2006）。\n",
    "\n",
    "\n",
    "\n",
    "MNL需求：\n",
    "\n",
    "天然满足凹性：收益函数 $g(\\boldsymbol{\\lambda})$ 在需求率空间中是联合凹的（见Dong et al., 2009）。"
   ]
  },
  {
   "cell_type": "markdown",
   "id": "ba2105f4",
   "metadata": {},
   "source": [
    "Test Bed 2 (MNL demand): We generate instances of problem $\\mathbb{P}_D$ using the MNL demand model defined in ( 2) . Our choice of parameters for this model is inspired by the numerical experi- ments in Dong et al. (2009), who study a multiproduct dynamic pricing problem for substitutable products. For each product $n\\in\\{1,...,N\\}$, the quality index $(d_n)$ is drawn randomly from U[5,15]. For simplicity, as in Dong et al. (2009), we normalized $u_0$ to 0 and $\\mu$ to 1.The arrival rate of customers is set at 10 per unit time. We choose the bill-of-material matrix A as the identity matrix of size $N.$ For each $n\\in\\{1,...,N\\}$, the value of $b_n$ is drawn randomly from U[0,10/N]; thus, in expectation, the sum of the capacities of the products is equal to half of the total demand. The price set for each product is chosen by discretizing the price range of [0, 20]"
   ]
  },
  {
   "cell_type": "code",
   "execution_count": null,
   "id": "b994378a",
   "metadata": {},
   "outputs": [],
   "source": []
  },
  {
   "cell_type": "markdown",
   "id": "1984272b",
   "metadata": {},
   "source": [
    "## test"
   ]
  },
  {
   "cell_type": "code",
   "execution_count": 2,
   "id": "886555f8",
   "metadata": {},
   "outputs": [
    {
     "name": "stdout",
     "output_type": "stream",
     "text": [
      "\n",
      "===== 从shelve文件加载params =====\n",
      "已从shelve文件data\\shelve\\params_rabbi_params2.shelve读取0个params对象\n",
      "成功加载 RABBI params，数量: 0\n",
      "已从shelve文件data\\shelve\\params_offline_params2.shelve读取0个params对象\n",
      "成功加载 OFFline params，数量: 0\n",
      "已从shelve文件data\\shelve\\params_nplusonelp_params2.shelve读取0个params对象\n",
      "成功加载 NPlusOneLP params，数量: 0\n",
      "已从shelve文件data\\shelve\\params_topklp_params2.shelve读取0个params对象\n",
      "成功加载 TopKLP params，数量: 0\n"
     ]
    }
   ],
   "source": [
    "import os\n",
    "from main import load_params_list_from_shelve\n",
    "from plot import plot_multi_k_ratio_results, plot_lp_x_benchmark_ratio_vs_k\n",
    "\n",
    "# 文件路径定义\n",
    "shelve_path_rabbi = os.path.join(\"data\", \"shelve\", \"params_rabbi_params2.shelve\")\n",
    "shelve_path_offline = os.path.join(\"data\", \"shelve\", \"params_offline_params2.shelve\")\n",
    "shelve_path_nplusonelp = os.path.join(\"data\", \"shelve\", \"params_nplusonelp_params2.shelve\")\n",
    "shelve_path_topklp = os.path.join(\"data\", \"shelve\", \"params_topklp_params2.shelve\")\n",
    "save_path_ratio_results = os.path.join(\"data\", \"pics\", \"multi_k_ratio_results2.png\")\n",
    "save_path_lp_benchmark = os.path.join(\"data\", \"pics\", \"lp_x_benchmark_ratio_vs_k2.png\")\n",
    "\n",
    "print(\"\\n===== 从shelve文件加载params =====\")\n",
    "# 从shelve文件加载params_list\n",
    "try:\n",
    "    rabbi_params = load_params_list_from_shelve(shelve_path_rabbi)\n",
    "    print(f\"成功加载 RABBI params，数量: {len(rabbi_params) if rabbi_params else 0}\")\n",
    "except FileNotFoundError:\n",
    "    print(f\"未找到文件: {shelve_path_rabbi}，设置为None\")\n",
    "    rabbi_params = None\n",
    "except Exception as e:\n",
    "    print(f\"加载 RABBI params 失败: {e}，设置为None\")\n",
    "    rabbi_params = None\n",
    "\n",
    "try:\n",
    "    offline_params = load_params_list_from_shelve(shelve_path_offline)\n",
    "    print(f\"成功加载 OFFline params，数量: {len(offline_params) if offline_params else 0}\")\n",
    "except FileNotFoundError:\n",
    "    print(f\"未找到文件: {shelve_path_offline}，设置为None\")\n",
    "    offline_params = None\n",
    "except Exception as e:\n",
    "    print(f\"加载 OFFline params 失败: {e}，设置为None\")\n",
    "    offline_params = None\n",
    "\n",
    "try:\n",
    "    nplus1_params = load_params_list_from_shelve(shelve_path_nplusonelp)\n",
    "    print(f\"成功加载 NPlusOneLP params，数量: {len(nplus1_params) if nplus1_params else 0}\")\n",
    "except FileNotFoundError:\n",
    "    print(f\"未找到文件: {shelve_path_nplusonelp}，设置为None\")\n",
    "    nplus1_params = None\n",
    "except Exception as e:\n",
    "    print(f\"加载 NPlusOneLP params 失败: {e}，设置为None\")\n",
    "    nplus1_params = None\n",
    "\n",
    "try:\n",
    "    topklp_params = load_params_list_from_shelve(shelve_path_topklp)\n",
    "    print(f\"成功加载 TopKLP params，数量: {len(topklp_params) if topklp_params else 0}\")\n",
    "except FileNotFoundError:\n",
    "    print(f\"未找到文件: {shelve_path_topklp}，设置为None\")\n",
    "    topklp_params = None\n",
    "except Exception as e:\n",
    "    print(f\"加载 TopKLP params 失败: {e}，设置为None\")\n",
    "    topklp_params = None\n",
    "\n",
    "# 检查是否至少有一个有效的params\n",
    "valid_params = [p for p in [rabbi_params, offline_params, nplus1_params, topklp_params] if p is not None]\n",
    "if not valid_params:\n",
    "    print(\"警告: 没有成功加载任何params数据，无法绘图\")\n",
    "    exit(1)\n",
    "\n",
    "# print(\"\\n===== 绘制结果 =====\")\n",
    "# # 绘制比例结果图 (需要offline_params作为基准)\n",
    "# if offline_params is not None:\n",
    "#     try:\n",
    "#         plot_multi_k_ratio_results(rabbi_params, offline_params, nplus1_params, topklp_params, \n",
    "#                                     save_path_ratio_results, show_plot=False)\n",
    "#         print(f\"比例结果图已保存到: {save_path_ratio_results}\")\n",
    "#     except Exception as e:\n",
    "#         print(f\"绘制比例结果图失败: {e}\")\n",
    "# else:\n",
    "#     print(\"警告: offline_params为None，无法绘制比例结果图\")\n",
    "\n",
    "# print(\"\\n===== 绘制LP解基准比例 =====\")\n",
    "# # 绘制LP benchmark比例图 (不需要offline_params)\n",
    "# lp_params = [rabbi_params, nplus1_params, topklp_params]\n",
    "# if any(p is not None for p in lp_params):\n",
    "#     try:\n",
    "#         plot_lp_x_benchmark_ratio_vs_k(rabbi_params, nplus1_params, topklp_params, \n",
    "#                                         save_path_lp_benchmark, show_plot=False)\n",
    "#         print(f\"LP解基准比例图已保存到: {save_path_lp_benchmark}\")\n",
    "#     except Exception as e:\n",
    "#         print(f\"绘制LP解基准比例图失败: {e}\")\n",
    "# else:\n",
    "#     print(\"警告: 没有有效的params用于绘制LP解基准比例图\")\n",
    "\n"
   ]
  },
  {
   "cell_type": "markdown",
   "id": "a4f4846c",
   "metadata": {},
   "source": [
    "$$\\vec{p}^* \\in \\mathcal{L} := \\left\\{ \\vec{p} : \\lfloor p_n^* \\rfloor \\leq p_n \\leq \\lceil p_n^* \\rceil, 1 \\leq n \\leq N, \\frac{p_n - \\lfloor p_n^* \\rfloor}{\\lceil p_n^* \\rceil - \\lfloor p_n^* \\rfloor} \\geq \\frac{p_{n+1} - \\lfloor p_{n+1}^* \\rfloor}{\\lceil p_{n+1}^* \\rceil - \\lfloor p_{n+1}^* \\rfloor}, 1 \\leq n \\leq N-1 \\right\\}$$\n",
    "|"
   ]
  },
  {
   "cell_type": "code",
   "execution_count": 3,
   "id": "0b9923f0",
   "metadata": {},
   "outputs": [
    {
     "data": {
      "text/plain": [
       "[]"
      ]
     },
     "execution_count": 3,
     "metadata": {},
     "output_type": "execute_result"
    }
   ],
   "source": [
    "offline_params"
   ]
  },
  {
   "cell_type": "code",
   "execution_count": null,
   "id": "49273195",
   "metadata": {},
   "outputs": [],
   "source": []
  }
 ],
 "metadata": {
  "kernelspec": {
   "display_name": "myvenv310",
   "language": "python",
   "name": "myenv"
  },
  "language_info": {
   "codemirror_mode": {
    "name": "ipython",
    "version": 3
   },
   "file_extension": ".py",
   "mimetype": "text/x-python",
   "name": "python",
   "nbconvert_exporter": "python",
   "pygments_lexer": "ipython3",
   "version": "3.10.10"
  }
 },
 "nbformat": 4,
 "nbformat_minor": 5
}
