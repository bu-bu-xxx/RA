{
 "cells": [
  {
   "cell_type": "markdown",
   "id": "e6bfb918",
   "metadata": {},
   "source": [
    "## demand function\n",
    "\n",
    "1. MNL与线性需求函数公式及输入输出\n",
    "(1) MNL需求模型 (Multinomial Logit)\n",
    "\n",
    "公式（论文公式(8)-(9)）：\n",
    "\n",
    "产品 $n$ 的需求率：\n",
    "$$\\lambda_n(\\mathbf{p}) = \\frac{\\exp((d_n - p_n)/\\mu)}{\\sum_{i=1}^N \\exp((d_i - p_i)/\\mu) + \\exp(u_0/\\mu)}$$\n",
    "\n",
    "零购买率（不购买任何产品）：\n",
    "$$\\lambda_0(\\mathbf{p}) = \\frac{\\exp(u_0/\\mu)}{\\sum_{i=1}^N \\exp((d_i - p_i)/\\mu) + \\exp(u_0/\\mu)}$$\n",
    "\n",
    "\n",
    "\n",
    "输入：价格向量 $\\mathbf{p} = [p_1, p_2, \\dots, p_N]$\n",
    "输出：需求向量 $\\boldsymbol{\\lambda} = [\\lambda_1, \\lambda_2, \\dots, \\lambda_N]$\n",
    "\n",
    "(2) 线性需求模型 (Linear Demand)\n",
    "\n",
    "公式（论文公式(21)）：\n",
    "$$\\lambda_n(\\mathbf{p}) = \\psi_n + \\theta_{nn} p_n + \\sum_{m \\neq n} \\theta_{nm} p_m$$\n",
    "\n",
    "输入：价格向量 $\\mathbf{p} = [p_1, p_2, \\dots, p_N]$\n",
    "输出：需求向量 $\\boldsymbol{\\lambda} = [\\lambda_1, \\lambda_2, \\dots, \\lambda_N]$\n",
    "\n",
    "\n",
    "2. 需求函数凹性 (Concavity) 的条件\n",
    "需求函数的凹性取决于收益函数 $g(\\boldsymbol{\\lambda}) = \\sum_{n=1}^N p_n \\lambda_n$ 的联合凹性（论文Proposition 3）：\n",
    "\n",
    "\n",
    "线性需求：\n",
    "\n",
    "需满足 对角占优条件：\n",
    "$$\\theta_{nn} < 0 \\quad \\text{且} \\quad |\\theta_{nn}| > \\sum_{m \\neq n} |\\theta_{nm}| \\quad (\\forall n)$$\n",
    "\n",
    "此时 $g(\\boldsymbol{\\lambda})$ 是联合凹函数（见Maglaras & Meissner, 2006）。\n",
    "\n",
    "\n",
    "\n",
    "MNL需求：\n",
    "\n",
    "天然满足凹性：收益函数 $g(\\boldsymbol{\\lambda})$ 在需求率空间中是联合凹的（见Dong et al., 2009）。"
   ]
  },
  {
   "cell_type": "markdown",
   "id": "ba2105f4",
   "metadata": {},
   "source": []
  },
  {
   "cell_type": "code",
   "execution_count": null,
   "id": "b994378a",
   "metadata": {},
   "outputs": [],
   "source": []
  }
 ],
 "metadata": {
  "kernelspec": {
   "display_name": "Python 3.10 venv(global)",
   "language": "python",
   "name": "py310env"
  },
  "language_info": {
   "name": "python",
   "version": "3.10.10"
  }
 },
 "nbformat": 4,
 "nbformat_minor": 5
}
